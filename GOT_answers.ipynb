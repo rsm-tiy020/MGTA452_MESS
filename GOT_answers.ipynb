{
 "cells": [
  {
   "cell_type": "code",
   "execution_count": null,
   "metadata": {},
   "outputs": [],
   "source": [
    "import polars as pl\n",
    "\n",
    "characters = pl.read_csv('data/characters.csv')\n",
    "episodes = pl.read_csv('data/episodes.csv')\n"
   ]
  },
  {
   "cell_type": "markdown",
   "metadata": {},
   "source": [
    "## Question 1. Calculate total screen time of royal characters in season 1 and 7"
   ]
  },
  {
   "cell_type": "code",
   "execution_count": null,
   "metadata": {},
   "outputs": [],
   "source": [
    "episodesChar = (\n",
    "    episodes\n",
    "    .join(characters, left_on = 'name', right_on = 'characterName', how='inner')\n",
    ")\n",
    "\n",
    "episodesRoyalSeason1 = (\n",
    "    episodesChar\n",
    "    .filter(pl.col('isRoyal') & (pl.col('season') == 1))\n",
    ")\n",
    "\n",
    "episodesRoyalSeason7 = (\n",
    "    episodesChar\n",
    "    .filter(pl.col('isRoyal') & (pl.col('season') == 7))\n",
    ")\n",
    "\n",
    "print(sum(episodesRoyalSeason1['sceneDuration'])/60)  # get result in minutes \n",
    "print(sum(episodesRoyalSeason7['sceneDuration'])/60)  # get result in minutes "
   ]
  },
  {
   "cell_type": "markdown",
   "metadata": {},
   "source": [
    "## Question 2: Which house had the most screen time in Season 1 - House Lannister or House Baratheon? "
   ]
  },
  {
   "cell_type": "code",
   "execution_count": null,
   "metadata": {},
   "outputs": [],
   "source": [
    "totalLan = (\n",
    "    episodesChar\n",
    "    .filter((pl.col('houseName') == 'Lannister') & (pl.col('season') == 1))\n",
    ")\n",
    "\n",
    "totalBar = (\n",
    "    episodesChar\n",
    "    .filter((pl.col('houseName') == 'Baratheon') & (pl.col('season') == 1))\n",
    ")\n",
    "\n",
    "print(sum(totalLan['sceneDuration'])/60)  # get result in minutes \n",
    "print(sum(totalBar['sceneDuration'])/60)  # get result in minutes "
   ]
  },
  {
   "cell_type": "markdown",
   "metadata": {},
   "source": [
    "# Question 3: Find the top location in season 1 in terms of screen time"
   ]
  },
  {
   "cell_type": "code",
   "execution_count": 6,
   "metadata": {},
   "outputs": [
    {
     "name": "stdout",
     "output_type": "stream",
     "text": [
      "Total Screen Time at Pentos: 74.5\n",
      "Total Screen Time at The Wall: 237.56666666666652\n",
      "Total Screen Time at The Dothraki Sea: 139.4833333333333\n",
      "Total Screen Time at The Red Waste: 139.73333333333343\n",
      "Total Screen Time at The Crownlands: 773.9999999999998\n",
      "Total Screen Time at The Vale: 131.48333333333338\n",
      "Total Screen Time at The Westerlands: 40.699999999999996\n",
      "Total Screen Time at The North: 576.783333333332\n",
      "Total Screen Time at Vaes Dothrak: 152.16666666666666\n",
      "Total Screen Time at The Riverlands: 207.23333333333366\n",
      "Total Screen Time at North of the Wall: 21.966666666666665\n"
     ]
    }
   ],
   "source": [
    "episodesSeason1 = (\n",
    "    episodes\n",
    "    .filter(pl.col('season') == 1)\n",
    ")\n",
    "\n",
    "# returns total screen time in minutes for a specific location\n",
    "def return_screen_time(df, theLoc):\n",
    "    scenes_loc = (\n",
    "        df\n",
    "        .filter(pl.col('location') == theLoc)\n",
    "    )\n",
    "\n",
    "    total_screen_minutes = sum(scenes_loc['sceneDuration']/60)\n",
    "    print('Total Screen Time at ' + theLoc + ':', total_screen_minutes)\n",
    "\n",
    "    return \n",
    "\n",
    "\n",
    "# first get all locations\n",
    "theLocs = episodesSeason1['location'].unique()\n",
    "\n",
    "# now find screen time for each location\n",
    "for theLoc in theLocs:\n",
    "    return_screen_time(episodesSeason1, theLoc)\n",
    "\n"
   ]
  }
 ],
 "metadata": {
  "kernelspec": {
   "display_name": "base",
   "language": "python",
   "name": "python3"
  },
  "language_info": {
   "codemirror_mode": {
    "name": "ipython",
    "version": 3
   },
   "file_extension": ".py",
   "mimetype": "text/x-python",
   "name": "python",
   "nbconvert_exporter": "python",
   "pygments_lexer": "ipython3",
   "version": "3.11.5"
  },
  "orig_nbformat": 4
 },
 "nbformat": 4,
 "nbformat_minor": 2
}
